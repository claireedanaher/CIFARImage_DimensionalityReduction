{
 "cells": [
  {
   "cell_type": "markdown",
   "metadata": {},
   "source": [
    "### Settings"
   ]
  },
  {
   "cell_type": "code",
   "execution_count": 1,
   "metadata": {},
   "outputs": [],
   "source": [
    "which_data = 'g'\n",
    "# 'c' for color images\n",
    "# 'g' for grayscale\n",
    "# 'f' for fourier\n",
    "\n",
    "\n",
    "take_subset = False\n",
    "# True to only use 2 classes\n",
    "# False to use all 10\n",
    "# note capitalization\n",
    "\n",
    "do_PCA = True\n",
    "components = 200\n",
    "# True will run PCA to reduce the dimension before doing diffusion/LE\n",
    "# False will skip this step\n",
    "#\n",
    "# if take_subset was set to False, I recommend doing PCA\n",
    "#\n",
    "# components is the number of components you get from PCA\n",
    "\n",
    "## File Path\n",
    "data_path = \"C:\\\\Users\\\\ecwit\\\\Data\\\\cifar-10\" "
   ]
  },
  {
   "cell_type": "markdown",
   "metadata": {},
   "source": [
    "## Import libraries"
   ]
  },
  {
   "cell_type": "code",
   "execution_count": 2,
   "metadata": {},
   "outputs": [],
   "source": [
    "exec(open(\"auxiliary\\\\imports.py\").read())\n",
    "%matplotlib inline"
   ]
  },
  {
   "cell_type": "markdown",
   "metadata": {},
   "source": [
    "## Import raw data"
   ]
  },
  {
   "cell_type": "code",
   "execution_count": 3,
   "metadata": {
    "scrolled": true
   },
   "outputs": [
    {
     "name": "stdout",
     "output_type": "stream",
     "text": [
      "Loading data: C:\\Users\\ecwit\\Data\\cifar-10\\data_batch_1\n",
      "Loading data: C:\\Users\\ecwit\\Data\\cifar-10\\data_batch_2\n",
      "Loading data: C:\\Users\\ecwit\\Data\\cifar-10\\data_batch_3\n",
      "Loading data: C:\\Users\\ecwit\\Data\\cifar-10\\data_batch_4\n",
      "Loading data: C:\\Users\\ecwit\\Data\\cifar-10\\data_batch_5\n"
     ]
    }
   ],
   "source": [
    "exec(open(\"auxiliary\\\\loadCFAR.py\").read())\n",
    "## data: raw_images\n",
    "## classes: cls\n",
    "## index_labels: indices for each class\n",
    "\n",
    "# for i in range(10):\n",
    "#     print(index_labels[:, i])"
   ]
  },
  {
   "cell_type": "markdown",
   "metadata": {},
   "source": [
    "## Convert original arrays to correct 3072 dim array per image"
   ]
  },
  {
   "cell_type": "code",
   "execution_count": 4,
   "metadata": {
    "scrolled": true
   },
   "outputs": [],
   "source": [
    "images = raw_images\n",
    "\n",
    "del raw_images\n",
    "\n",
    "images=images.ravel()\n",
    "\n",
    "if which_data == 'c':\n",
    "    images = images.reshape(-1, 32*32*3)\n",
    "else:\n",
    "    images = images.reshape(-1, 32*32)\n",
    "    \n",
    "np.random.seed(5)\n",
    "sub_ind=np.random.choice(len(images),40000,replace=False)\n",
    "\n",
    "labels_subset=cls[np.where(sub_ind)]\n",
    "reduced = images[np.where(sub_ind)]"
   ]
  },
  {
   "cell_type": "markdown",
   "metadata": {},
   "source": [
    "## Do Diffusion Map Time Complexity"
   ]
  },
  {
   "cell_type": "code",
   "execution_count": 5,
   "metadata": {
    "scrolled": true
   },
   "outputs": [
    {
     "name": "stdout",
     "output_type": "stream",
     "text": [
      "Diffusion Map Time Taken: 0:00:00.168547\n",
      "\n",
      "\n",
      "Diffusion Map Time Taken: 0:00:00.559340\n",
      "\n",
      "\n",
      "Diffusion Map Time Taken: 0:00:09.961605\n",
      "\n",
      "\n",
      "Diffusion Map Time Taken: 0:00:40.955663\n",
      "\n",
      "\n",
      "Diffusion Map Time Taken: 0:02:41.903433\n",
      "\n",
      "\n",
      "Diffusion Map Time Taken: 0:11:01.765438\n",
      "\n",
      "\n",
      "100    0.171539\n",
      "1000    0.561306\n",
      "5000    9.964599\n",
      "10000    40.957658\n",
      "20000    161.907423\n",
      "40000    661.768428\n"
     ]
    }
   ],
   "source": [
    "# sizes=[100,1000,5000,10000, 20000,40000]\n",
    "sizes = [100, 1000,5000,10000, 20000,40000]\n",
    "process_time=np.zeros((len(sizes), 2))\n",
    "\n",
    "for i in range(len(sizes)):\n",
    "    \n",
    "    num_coord = 3\n",
    "    neighbors = 35\n",
    "    eps = 12000\n",
    "    alph = 1\n",
    "\n",
    "    doPlot = False\n",
    "    doKNN = False\n",
    "    doSVM = False\n",
    "\n",
    "    data = reduced[0:sizes[i]]\n",
    "    classes = labels_subset[0:sizes[i]]\n",
    "    \n",
    "    title = \"Diffusion Coordinates, CIFAR grayscale\"\n",
    "    \n",
    "#     print(\"FOR \" + str(i) + \" COMPONENTS\")\n",
    "\n",
    "    start=datetime.datetime.now()\n",
    "    exec(open(\"auxiliary\\\\doDiffusion.py\").read())\n",
    "    end=datetime.datetime.now()\n",
    "    process_time[i, 0] = int(sizes[i])\n",
    "    process_time[i, 1] = (end-start).total_seconds()\n",
    "    \n",
    "for i in range(len(sizes)):\n",
    "    print(str(int(sizes[i])) + \"    \" + str(process_time[i, 1]))"
   ]
  },
  {
   "cell_type": "markdown",
   "metadata": {},
   "source": [
    "## LAPLACIAN EIGENMAPS"
   ]
  },
  {
   "cell_type": "code",
   "execution_count": 6,
   "metadata": {},
   "outputs": [
    {
     "name": "stdout",
     "output_type": "stream",
     "text": [
      "Laplacian Eigenmap Time Taken: 0:00:00.013964\n",
      "\n",
      "\n",
      "Laplacian Eigenmap Time Taken: 0:00:02.459827\n",
      "\n",
      "\n",
      "Laplacian Eigenmap Time Taken: 0:01:02.164807\n",
      "\n",
      "\n",
      "Laplacian Eigenmap Time Taken: 0:04:10.283904\n",
      "\n",
      "\n",
      "Laplacian Eigenmap Time Taken: 0:19:57.883814\n",
      "\n",
      "\n",
      "Laplacian Eigenmap Time Taken: 1:54:34.907572\n",
      "\n",
      "\n",
      "100    0.015956\n",
      "1000    2.461823\n",
      "5000    62.166801\n",
      "10000    250.286894\n",
      "20000    1197.886815\n",
      "40000    6874.950457\n"
     ]
    }
   ],
   "source": [
    "# sizes=[100,1000,5000,10000, 20000,40000]\n",
    "sizes = [100, 1000,5000,10000, 20000,40000]\n",
    "process_time=np.zeros((len(sizes), 2))\n",
    "\n",
    "for i in range(len(sizes)):\n",
    "    \n",
    "    num_coord = 3\n",
    "    neighbors = 50\n",
    "\n",
    "    gam = .00001\n",
    "    # the gamma for LE is 1/epsilon from DM\n",
    "    # unused if we choose 0 and 1 weights\n",
    "\n",
    "    doPlot = False\n",
    "    doKNN = False\n",
    "    doSVM = False\n",
    "\n",
    "    data = reduced[0:sizes[i]]\n",
    "    classes = labels_subset[0:sizes[i]]\n",
    "    \n",
    "    #del images\n",
    "    #del raw_images\n",
    "    title = \"Laplacian Eigenmap Coordinates, CIFAR Grayscale\"\n",
    "    \n",
    "    start=datetime.datetime.now()\n",
    "    exec(open(\"auxiliary\\\\doLE.py\").read())\n",
    "    end=datetime.datetime.now()\n",
    "    process_time[i, 0] = int(sizes[i])\n",
    "    process_time[i, 1] = (end-start).total_seconds()\n",
    "#     print(\"#############################\\n\\n\")\n",
    "\n",
    "\n",
    "for i in range(len(sizes)):\n",
    "    print(str(int(sizes[i])) + \"    \" + str(process_time[i, 1]))"
   ]
  },
  {
   "cell_type": "code",
   "execution_count": null,
   "metadata": {},
   "outputs": [],
   "source": []
  }
 ],
 "metadata": {
  "kernelspec": {
   "display_name": "Python 3",
   "language": "python",
   "name": "python3"
  },
  "language_info": {
   "codemirror_mode": {
    "name": "ipython",
    "version": 3
   },
   "file_extension": ".py",
   "mimetype": "text/x-python",
   "name": "python",
   "nbconvert_exporter": "python",
   "pygments_lexer": "ipython3",
   "version": "3.7.0"
  }
 },
 "nbformat": 4,
 "nbformat_minor": 2
}
