{
 "cells": [
  {
   "cell_type": "markdown",
   "metadata": {},
   "source": [
    "# IMPORT LIBRARIES"
   ]
  },
  {
   "cell_type": "markdown",
   "metadata": {},
   "source": [
    "## Usage\n",
    "## This notebook serves as a starting point for the analysis which will be completed for each of the methods. It is important that the same data and dataformat feed into the analysis for consistency purposes\n",
    "\n",
    "- Import libraries\n",
    "- Update filepath directory\n",
    "- Activate import variables + functions\n",
    "- Import raw data\n",
    "- Convert data to a a 3072 dimension vector for each image"
   ]
  },
  {
   "cell_type": "markdown",
   "metadata": {},
   "source": [
    "## Import libraries"
   ]
  },
  {
   "cell_type": "code",
   "execution_count": 1,
   "metadata": {},
   "outputs": [],
   "source": [
    "import numpy as np\n",
    "import pickle\n",
    "import os\n",
    "#import download\n",
    "import pandas as pd\n",
    "import numpy as np\n",
    "from sklearn.decomposition import PCA"
   ]
  },
  {
   "cell_type": "markdown",
   "metadata": {},
   "source": [
    "## Update filepath directory"
   ]
  },
  {
   "cell_type": "code",
   "execution_count": 2,
   "metadata": {},
   "outputs": [],
   "source": [
    "\n",
    "########################################################################\n",
    "#Filepath for the CIFAR data\n",
    "# Set this before you start calling any of the functions below.\n",
    "data_path = \"C:\\\\WPI\\\\UnsupervisedLearning\\\\FinalProject\\\\cifar\\\\\" "
   ]
  },
  {
   "cell_type": "markdown",
   "metadata": {},
   "source": [
    "## Activate import variables and functions"
   ]
  },
  {
   "cell_type": "code",
   "execution_count": 3,
   "metadata": {},
   "outputs": [],
   "source": [
    "########################################################################\n",
    "# Various constants for the size of the images.\n",
    "# Use these constants in your own program.\n",
    "\n",
    "# Width and height of each image.\n",
    "img_size = 32\n",
    "\n",
    "# Number of channels in each image, 3 channels: Red, Green, Blue.\n",
    "num_channels = 3\n",
    "\n",
    "# Length of an image when flattened to a 1-dim array.\n",
    "img_size_flat = img_size * img_size * num_channels\n",
    "\n",
    "# Number of classes.\n",
    "num_classes = 10\n",
    "\n",
    "########################################################################\n",
    "# Various constants used to allocate arrays of the correct size.\n",
    "\n",
    "# Number of files for the training-set.\n",
    "_num_files_train = 5\n",
    "\n",
    "# Number of images for each batch-file in the training-set.\n",
    "_images_per_file = 10000\n",
    "\n",
    "# Total number of images in the training-set.\n",
    "# This is used to pre-allocate arrays for efficiency.\n",
    "_num_images_train = _num_files_train * _images_per_file\n",
    "\n",
    "########################################################################\n",
    "# Private functions for downloading, unpacking and loading data-files.\n",
    "\n",
    "\n",
    "def _get_file_path(filename=\"\"):\n",
    "    \"\"\"\n",
    "    Return the full path of a data-file for the data-set.\n",
    "    If filename==\"\" then return the directory of the files.\n",
    "    \"\"\"\n",
    "\n",
    "    return os.path.join(data_path,  filename)\n",
    "\n",
    "\n",
    "def _unpickle(filename):\n",
    "    \"\"\"\n",
    "    Unpickle the given file and return the data.\n",
    "    Note that the appropriate dir-name is prepended the filename.\n",
    "    \"\"\"\n",
    "\n",
    "    # Create full path for the file.\n",
    "    file_path = _get_file_path(filename)\n",
    "\n",
    "    print(\"Loading data: \" + file_path)\n",
    "\n",
    "    with open(file_path, mode='rb') as file:\n",
    "        # In Python 3.X it is important to set the encoding,\n",
    "        # otherwise an exception is raised here.\n",
    "        data = pickle.load(file, encoding='bytes')\n",
    "\n",
    "    return data\n",
    "\n",
    "\n",
    "def _convert_images(raw):\n",
    "    \"\"\"\n",
    "    Convert images from the CIFAR-10 format and\n",
    "    return a 4-dim array with shape: [image_number, height, width, channel]\n",
    "    where the pixels are floats between 0.0 and 1.0.\n",
    "    \"\"\"\n",
    "\n",
    "    # Convert the raw images from the data-files to floating-points.\n",
    "    raw_float = np.array(raw, dtype=float) / 255.0\n",
    "\n",
    "    # Reshape the array to 4-dimensions.\n",
    "    images = raw_float.reshape([-1, num_channels, img_size, img_size])\n",
    "\n",
    "    # Reorder the indices of the array.\n",
    "    images = images.transpose([0, 2, 3, 1])\n",
    "\n",
    "    return images\n",
    "\n",
    "\n",
    "def _load_data(filename):\n",
    "    \"\"\"\n",
    "    Load a pickled data-file from the CIFAR-10 data-set\n",
    "    and return the converted images (see above) and the class-number\n",
    "    for each image.\n",
    "    \"\"\"\n",
    "\n",
    "    # Load the pickled data-file.\n",
    "    data = _unpickle(filename)\n",
    "\n",
    "    # Get the raw images.\n",
    "    raw_images = data[b'data']\n",
    "\n",
    "    # Get the class-numbers for each image. Convert to numpy-array.\n",
    "    cls = np.array(data[b'labels'])\n",
    "\n",
    "    # Convert the images.\n",
    "    images = _convert_images(raw_images)\n",
    "\n",
    "    return images, cls\n",
    "\n",
    "\n",
    "########################################################################\n",
    "# Public functions that you may call to download the data-set from\n",
    "# the internet and load the data into memory.\n",
    "\n",
    "\n",
    "def load_class_names():\n",
    "    \"\"\"\n",
    "    Load the names for the classes in the CIFAR-10 data-set.\n",
    "    Returns a list with the names. Example: names[3] is the name\n",
    "    associated with class-number 3.\n",
    "    \"\"\"\n",
    "\n",
    "    # Load the class-names from the pickled file.\n",
    "    raw = _unpickle(filename=\"batches.meta\")[b'label_names']\n",
    "\n",
    "    # Convert from binary strings.\n",
    "    names = [x.decode('utf-8') for x in raw]\n",
    "\n",
    "    return names\n",
    "\n",
    "\n",
    "def load_training_data():\n",
    "    \"\"\"\n",
    "    Load all the training-data for the CIFAR-10 data-set.\n",
    "    The data-set is split into 5 data-files which are merged here.\n",
    "    Returns the images, class-numbers and one-hot encoded class-labels.\n",
    "    \"\"\"\n",
    "\n",
    "    # Pre-allocate the arrays for the images and class-numbers for efficiency.\n",
    "    images = np.zeros(shape=[_num_images_train, img_size, img_size, num_channels], dtype=float)\n",
    "    cls = np.zeros(shape=[_num_images_train], dtype=int)\n",
    "\n",
    "    # Begin-index for the current batch.\n",
    "    begin = 0\n",
    "\n",
    "    # For each data-file.\n",
    "    for i in range(_num_files_train):\n",
    "        # Load the images and class-numbers from the data-file.\n",
    "        images_batch, cls_batch = _load_data(filename=\"data_batch_\" + str(i + 1))\n",
    "\n",
    "        # Number of images in this batch.\n",
    "        num_images = len(images_batch)\n",
    "\n",
    "        # End-index for the current batch.\n",
    "        end = begin + num_images\n",
    "\n",
    "        # Store the images into the array.\n",
    "        images[begin:end, :] = images_batch\n",
    "\n",
    "        # Store the class-numbers into the array.\n",
    "        cls[begin:end] = cls_batch\n",
    "\n",
    "        # The begin-index for the next batch is the current end-index.\n",
    "        begin = end\n",
    "\n",
    "    return images, cls\n",
    "\n",
    "\n",
    "def load_test_data():\n",
    "    \"\"\"\n",
    "    Load all the test-data for the CIFAR-10 data-set.\n",
    "    Returns the images, class-numbers and one-hot encoded class-labels.\n",
    "    \"\"\"\n",
    "\n",
    "    images, cls = _load_data(filename=\"test_batch\")\n",
    "\n",
    "    return images, cls"
   ]
  },
  {
   "cell_type": "markdown",
   "metadata": {},
   "source": [
    "## Import raw data"
   ]
  },
  {
   "cell_type": "code",
   "execution_count": 4,
   "metadata": {
    "scrolled": true
   },
   "outputs": [
    {
     "name": "stdout",
     "output_type": "stream",
     "text": [
      "Loading data: C:\\WPI\\UnsupervisedLearning\\FinalProject\\cifar\\data_batch_1\n",
      "Loading data: C:\\WPI\\UnsupervisedLearning\\FinalProject\\cifar\\data_batch_2\n",
      "Loading data: C:\\WPI\\UnsupervisedLearning\\FinalProject\\cifar\\data_batch_3\n",
      "Loading data: C:\\WPI\\UnsupervisedLearning\\FinalProject\\cifar\\data_batch_4\n",
      "Loading data: C:\\WPI\\UnsupervisedLearning\\FinalProject\\cifar\\data_batch_5\n",
      "[[[[0.60392157 0.69411765 0.73333333]\n",
      "   [0.49411765 0.5372549  0.53333333]\n",
      "   [0.41176471 0.40784314 0.37254902]\n",
      "   ...\n",
      "   [0.35686275 0.37254902 0.27843137]\n",
      "   [0.34117647 0.35294118 0.27843137]\n",
      "   [0.30980392 0.31764706 0.2745098 ]]\n",
      "\n",
      "  [[0.54901961 0.62745098 0.6627451 ]\n",
      "   [0.56862745 0.6        0.60392157]\n",
      "   [0.49019608 0.49019608 0.4627451 ]\n",
      "   ...\n",
      "   [0.37647059 0.38823529 0.30588235]\n",
      "   [0.30196078 0.31372549 0.24313725]\n",
      "   [0.27843137 0.28627451 0.23921569]]\n",
      "\n",
      "  [[0.54901961 0.60784314 0.64313725]\n",
      "   [0.54509804 0.57254902 0.58431373]\n",
      "   [0.45098039 0.45098039 0.43921569]\n",
      "   ...\n",
      "   [0.30980392 0.32156863 0.25098039]\n",
      "   [0.26666667 0.2745098  0.21568627]\n",
      "   [0.2627451  0.27058824 0.21568627]]\n",
      "\n",
      "  ...\n",
      "\n",
      "  [[0.68627451 0.65490196 0.65098039]\n",
      "   [0.61176471 0.60392157 0.62745098]\n",
      "   [0.60392157 0.62745098 0.66666667]\n",
      "   ...\n",
      "   [0.16470588 0.13333333 0.14117647]\n",
      "   [0.23921569 0.20784314 0.22352941]\n",
      "   [0.36470588 0.3254902  0.35686275]]\n",
      "\n",
      "  [[0.64705882 0.60392157 0.50196078]\n",
      "   [0.61176471 0.59607843 0.50980392]\n",
      "   [0.62352941 0.63137255 0.55686275]\n",
      "   ...\n",
      "   [0.40392157 0.36470588 0.37647059]\n",
      "   [0.48235294 0.44705882 0.47058824]\n",
      "   [0.51372549 0.4745098  0.51372549]]\n",
      "\n",
      "  [[0.63921569 0.58039216 0.47058824]\n",
      "   [0.61960784 0.58039216 0.47843137]\n",
      "   [0.63921569 0.61176471 0.52156863]\n",
      "   ...\n",
      "   [0.56078431 0.52156863 0.54509804]\n",
      "   [0.56078431 0.5254902  0.55686275]\n",
      "   [0.56078431 0.52156863 0.56470588]]]]\n"
     ]
    }
   ],
   "source": [
    "########################################################################\n",
    "#Import image data using import functions     \n",
    "raw_images, cls=load_training_data()\n",
    "\n",
    "\n",
    "#Print variable to confirm import correctly\n",
    "print(raw_images[1:2]) \n",
    "#######################################################################"
   ]
  },
  {
   "cell_type": "markdown",
   "metadata": {},
   "source": [
    "## Verify correct import"
   ]
  },
  {
   "cell_type": "code",
   "execution_count": 5,
   "metadata": {},
   "outputs": [
    {
     "name": "stdout",
     "output_type": "stream",
     "text": [
      "153600000\n",
      "153600000\n"
     ]
    }
   ],
   "source": [
    "#Check data type--> should by np array\n",
    "type(raw_images)\n",
    "#Check number of images --> should be 50000\n",
    "len(raw_images)\n",
    "\n",
    "#Check data dimensions\n",
    "#Correct dimensions:\n",
    "print(3072*50000)\n",
    "#Imported Dimensions\n",
    "print(raw_images.size)"
   ]
  },
  {
   "cell_type": "markdown",
   "metadata": {},
   "source": [
    "## Convert original array to correct 3072 dim array per image"
   ]
  },
  {
   "cell_type": "code",
   "execution_count": 7,
   "metadata": {
    "scrolled": true
   },
   "outputs": [],
   "source": [
    "images_flat=raw_images.ravel()"
   ]
  },
  {
   "cell_type": "code",
   "execution_count": 9,
   "metadata": {},
   "outputs": [],
   "source": [
    "images_color = images_flat.reshape(-1, img_size_flat)"
   ]
  },
  {
   "cell_type": "code",
   "execution_count": 10,
   "metadata": {},
   "outputs": [
    {
     "name": "stdout",
     "output_type": "stream",
     "text": [
      "[0.60392157 0.69411765 0.73333333 ... 0.56078431 0.52156863 0.56470588]\n"
     ]
    }
   ],
   "source": [
    "print(images_color[1])"
   ]
  },
  {
   "cell_type": "markdown",
   "metadata": {},
   "source": [
    "# Run PCA on color image vectors"
   ]
  },
  {
   "cell_type": "code",
   "execution_count": 12,
   "metadata": {},
   "outputs": [
    {
     "data": {
      "text/plain": [
       "PCA(copy=True, iterated_power='auto', n_components=3072, random_state=None,\n",
       "  svd_solver='auto', tol=0.0, whiten=False)"
      ]
     },
     "execution_count": 12,
     "metadata": {},
     "output_type": "execute_result"
    }
   ],
   "source": [
    "#RUN PCA on images\n",
    "pca = PCA(n_components=img_size_flat)\n",
    "pca.fit(images_color)"
   ]
  },
  {
   "cell_type": "code",
   "execution_count": 16,
   "metadata": {},
   "outputs": [
    {
     "name": "stdout",
     "output_type": "stream",
     "text": [
      "\n",
      " Explained Variance\n",
      "[2.90766299e-01 1.12531437e-01 6.69441396e-02 ... 8.64946450e-09\n",
      " 8.45232138e-09 8.33587056e-09]\n",
      "\n",
      "Singular Values\n",
      "[1.66376404e+03 1.03503880e+03 7.98318108e+02 ... 2.86955338e-01\n",
      " 2.83666271e-01 2.81705405e-01]\n",
      "\n",
      "Cumulative Explained Variance\n",
      "[29.08 40.33 47.02 ... 98.77 98.77 98.77]\n"
     ]
    }
   ],
   "source": [
    "#PRINT Explained Variance Ratio\n",
    "print('\\n Explained Variance')\n",
    "print(pca.explained_variance_ratio_) \n",
    "print('\\nSingular Values')\n",
    "print(pca.singular_values_) \n",
    "print('\\nCumulative Explained Variance')\n",
    "var1=np.cumsum(np.round(pca.explained_variance_ratio_, decimals=4)*100)\n",
    "print(var1)"
   ]
  },
  {
   "cell_type": "code",
   "execution_count": 18,
   "metadata": {},
   "outputs": [],
   "source": [
    "import numpy as np\n",
    "from sklearn.decomposition import PCA\n",
    "import pandas as pd\n",
    "import matplotlib.pyplot as plt\n",
    "from sklearn.preprocessing import scale\n",
    "%matplotlib inline"
   ]
  },
  {
   "cell_type": "code",
   "execution_count": 19,
   "metadata": {},
   "outputs": [
    {
     "data": {
      "text/plain": [
       "[<matplotlib.lines.Line2D at 0x1fb4e1193c8>]"
      ]
     },
     "execution_count": 19,
     "metadata": {},
     "output_type": "execute_result"
    },
    {
     "data": {
      "image/png": "[encoded data removed]",
      "text/plain": [
       "<Figure size 432x288 with 1 Axes>"
      ]
     },
     "metadata": {
      "needs_background": "light"
     },
     "output_type": "display_data"
    }
   ],
   "source": [
    "plt.plot(var1)"
   ]
  }
 ],
 "metadata": {
  "kernelspec": {
   "display_name": "Python 3",
   "language": "python",
   "name": "python3"
  },
  "language_info": {
   "codemirror_mode": {
    "name": "ipython",
    "version": 3
   },
   "file_extension": ".py",
   "mimetype": "text/x-python",
   "name": "python",
   "nbconvert_exporter": "python",
   "pygments_lexer": "ipython3",
   "version": "3.7.0"
  }
 },
 "nbformat": 4,
 "nbformat_minor": 2
}
