{
 "cells": [
  {
   "cell_type": "code",
   "execution_count": 1,
   "metadata": {},
   "outputs": [
    {
     "name": "stderr",
     "output_type": "stream",
     "text": [
      "C:\\Users\\KirtyVedula\\Anaconda3\\lib\\site-packages\\h5py\\__init__.py:34: FutureWarning: Conversion of the second argument of issubdtype from `float` to `np.floating` is deprecated. In future, it will be treated as `np.float64 == np.dtype(float).type`.\n",
      "  from ._conv import register_converters as _register_converters\n",
      "Using TensorFlow backend.\n"
     ]
    }
   ],
   "source": [
    "from IPython.display import Image\n",
    "from IPython.display import display\n",
    "import matplotlib.pyplot as plt\n",
    "import numpy as np\n",
    "import tensorflow as tf\n",
    "# inline plotting instead of popping out\n",
    "%matplotlib inline\n",
    "import os, sys\n",
    "module_path = os.path.abspath(os.path.join('.'))\n",
    "sys.path.append(module_path)\n",
    "from lib import *\n",
    "from keras.datasets import cifar10\n",
    "from keras.utils import np_utils"
   ]
  },
  {
   "cell_type": "code",
   "execution_count": 2,
   "metadata": {},
   "outputs": [
    {
     "name": "stdout",
     "output_type": "stream",
     "text": [
      "X_train shape: (50000, 32, 32, 3)\n",
      "Y_train shape: (50000, 1)\n",
      "X_test shape: (10000, 32, 32, 3)\n",
      "Y_test shape: (10000, 1)\n"
     ]
    }
   ],
   "source": [
    "(X_train, Y_train), (X_test, Y_test) = cifar10.load_data()\n",
    "print('X_train shape:', X_train.shape)\n",
    "print('Y_train shape:', Y_train.shape)\n",
    "print('X_test shape:', X_test.shape)\n",
    "print('Y_test shape:', Y_test.shape)"
   ]
  },
  {
   "cell_type": "code",
   "execution_count": null,
   "metadata": {},
   "outputs": [],
   "source": [
    "# normalize inputs from 0-255 to 0.0-1.0\n",
    "X_train = X_train.astype('float32')\n",
    "X_test = X_test.astype('float32')\n",
    "X_train = X_train / 255.0\n",
    "X_test = X_test / 255.0"
   ]
  },
  {
   "cell_type": "code",
   "execution_count": 3,
   "metadata": {},
   "outputs": [
    {
     "data": {
      "image/png": "[encoded data removed]",
      "text/plain": [
       "<matplotlib.figure.Figure at 0x2a0a62b3fd0>"
      ]
     },
     "metadata": {
      "needs_background": "light"
     },
     "output_type": "display_data"
    }
   ],
   "source": [
    "def grayscale(data, dtype='float32'):\n",
    "    # luma coding weighted average in video systems\n",
    "    r, g, b = np.asarray(.21, dtype=dtype), np.asarray(.72, dtype=dtype), np.asarray(.07, dtype=dtype)\n",
    "    rst = r * data[:, :, :, 0] + g * data[:, :, :, 1] + b * data[:, :, :, 2]\n",
    "    # add channel dimension\n",
    "    rst = np.expand_dims(rst, axis=3)\n",
    "    return rst\n",
    "\n",
    "X_train_gray = grayscale(X_train)\n",
    "X_test_gray = grayscale(X_test)\n",
    "\n",
    "# now we have only one channel in the images\n",
    "img_channels = 1\n",
    "\n",
    "# plot a randomly chosen image\n",
    "img = 64\n",
    "plt.figure(figsize=(4, 2))\n",
    "plt.subplot(1, 2, 1)\n",
    "plt.imshow(X_train[img], interpolation='none')\n",
    "plt.subplot(1, 2, 2)\n",
    "plt.imshow(X_train_gray[img, :, :, 0], cmap=plt.get_cmap('gray'), interpolation='none')\n",
    "plt.show()"
   ]
  },
  {
   "cell_type": "code",
   "execution_count": 4,
   "metadata": {},
   "outputs": [
    {
     "name": "stdout",
     "output_type": "stream",
     "text": [
      "X_train_gray shape: (40000, 32, 32)\n",
      "X_val_gray shape: (10000, 32, 32)\n",
      "Y_train shape: (40000,)\n",
      "Y_val shape: (10000,)\n",
      "(40000, 1024)\n",
      "(10000, 1024)\n"
     ]
    }
   ],
   "source": [
    "from sklearn.model_selection import train_test_split\n",
    "X_train_gray, X_val_gray, Y_train, Y_val = train_test_split(X_train_gray, Y_train, test_size=0.2, random_state=0)\n",
    "\n",
    "X_train_gray = np.squeeze(X_train_gray)\n",
    "X_val_gray = np.squeeze(X_val_gray)\n",
    "Y_train = np.squeeze(Y_train)\n",
    "Y_val = np.squeeze(Y_val)\n",
    "\n",
    "print('X_train_gray shape:', X_train_gray.shape)\n",
    "print('X_val_gray shape:', X_val_gray.shape)\n",
    "\n",
    "print('Y_train shape:', Y_train.shape)\n",
    "print('Y_val shape:', Y_val.shape)\n",
    "\n",
    "X_train_gray = X_train_gray.astype('float32') / 255.\n",
    "X_test_gray = X_test_gray.astype('float32') / 255.\n",
    "X_train_gray = X_train_gray.reshape((len(X_train_gray), np.prod(X_train_gray.shape[1:])))\n",
    "X_test_gray = X_test_gray.reshape((len(X_test_gray), np.prod(X_test_gray.shape[1:])))\n",
    "print(X_train_gray.shape)\n",
    "print(X_test_gray.shape)"
   ]
  },
  {
   "cell_type": "code",
   "execution_count": 5,
   "metadata": {},
   "outputs": [],
   "source": [
    "from keras.layers import Input, Dense\n",
    "from keras.models import Model\n",
    "\n",
    "# this is the size of our encoded representations\n",
    "encoding_dim = 512 # 32 floats -> compression of factor 24.5, assuming the input is 784 floats\n",
    "\n",
    "# this is our input placeholder\n",
    "input_img = Input(shape=(1024,))\n",
    "encoded = Dense(128, activation='relu')(input_img)\n",
    "encoded = Dense(64, activation='relu')(encoded)\n",
    "encoded = Dense(32, activation='relu')(encoded)\n",
    "\n",
    "decoded = Dense(64, activation='relu')(encoded)\n",
    "decoded = Dense(128, activation='relu')(decoded)\n",
    "decoded = Dense(1024, activation='sigmoid')(decoded)\n",
    "\n",
    "autoencoder = Model(input_img, decoded)\n",
    "autoencoder.compile(optimizer='adam', loss='binary_crossentropy')"
   ]
  },
  {
   "cell_type": "code",
   "execution_count": 6,
   "metadata": {},
   "outputs": [
    {
     "name": "stdout",
     "output_type": "stream",
     "text": [
      "Train on 40000 samples, validate on 10000 samples\n",
      "Epoch 1/50\n",
      "40000/40000 [==============================] - 14s - loss: 0.6523 - val_loss: 0.6292\n",
      "Epoch 2/50\n",
      "40000/40000 [==============================] - 12s - loss: 0.6213 - val_loss: 0.6178\n",
      "Epoch 3/50\n",
      "40000/40000 [==============================] - 12s - loss: 0.6142 - val_loss: 0.6120\n",
      "Epoch 4/50\n",
      "40000/40000 [==============================] - 9s - loss: 0.6103 - val_loss: 0.6103\n",
      "Epoch 5/50\n",
      "40000/40000 [==============================] - 10s - loss: 0.6083 - val_loss: 0.6080\n",
      "Epoch 6/50\n",
      "40000/40000 [==============================] - 8s - loss: 0.6064 - val_loss: 0.6067\n",
      "Epoch 7/50\n",
      "40000/40000 [==============================] - 8s - loss: 0.6044 - val_loss: 0.6066\n",
      "Epoch 8/50\n",
      "40000/40000 [==============================] - 9s - loss: 0.6036 - val_loss: 0.6043\n",
      "Epoch 9/50\n",
      "40000/40000 [==============================] - 10s - loss: 0.6030 - val_loss: 0.6034\n",
      "Epoch 10/50\n",
      "40000/40000 [==============================] - 9s - loss: 0.6019 - val_loss: 0.6027\n",
      "Epoch 11/50\n",
      "40000/40000 [==============================] - 9s - loss: 0.6013 - val_loss: 0.6015\n",
      "Epoch 12/50\n",
      "40000/40000 [==============================] - 10s - loss: 0.6004 - val_loss: 0.6010\n",
      "Epoch 13/50\n",
      "40000/40000 [==============================] - 10s - loss: 0.5995 - val_loss: 0.6003\n",
      "Epoch 14/50\n",
      "40000/40000 [==============================] - 12s - loss: 0.5991 - val_loss: 0.5997\n",
      "Epoch 15/50\n",
      "40000/40000 [==============================] - 9s - loss: 0.5987 - val_loss: 0.5997\n",
      "Epoch 16/50\n",
      "40000/40000 [==============================] - 9s - loss: 0.5983 - val_loss: 0.5997\n",
      "Epoch 17/50\n",
      "40000/40000 [==============================] - 9s - loss: 0.5981 - val_loss: 0.6009\n",
      "Epoch 18/50\n",
      "40000/40000 [==============================] - 9s - loss: 0.5980 - val_loss: 0.5988\n",
      "Epoch 19/50\n",
      "40000/40000 [==============================] - 9s - loss: 0.5978 - val_loss: 0.5986\n",
      "Epoch 20/50\n",
      "40000/40000 [==============================] - 9s - loss: 0.5975 - val_loss: 0.5982\n",
      "Epoch 21/50\n",
      "40000/40000 [==============================] - 9s - loss: 0.5970 - val_loss: 0.5978\n",
      "Epoch 22/50\n",
      "40000/40000 [==============================] - 8s - loss: 0.5966 - val_loss: 0.5971\n",
      "Epoch 23/50\n",
      "40000/40000 [==============================] - 8s - loss: 0.5962 - val_loss: 0.5970\n",
      "Epoch 24/50\n",
      "40000/40000 [==============================] - 11s - loss: 0.5962 - val_loss: 0.5970\n",
      "Epoch 25/50\n",
      "40000/40000 [==============================] - 11s - loss: 0.5960 - val_loss: 0.5971\n",
      "Epoch 26/50\n",
      "40000/40000 [==============================] - 13s - loss: 0.5959 - val_loss: 0.5968\n",
      "Epoch 27/50\n",
      "40000/40000 [==============================] - 13s - loss: 0.5957 - val_loss: 0.5972\n",
      "Epoch 28/50\n",
      "40000/40000 [==============================] - 14s - loss: 0.5955 - val_loss: 0.5964\n",
      "Epoch 29/50\n",
      "40000/40000 [==============================] - 13s - loss: 0.5953 - val_loss: 0.5962\n",
      "Epoch 30/50\n",
      "40000/40000 [==============================] - 13s - loss: 0.5952 - val_loss: 0.5963\n",
      "Epoch 31/50\n",
      "40000/40000 [==============================] - 13s - loss: 0.5951 - val_loss: 0.5961\n",
      "Epoch 32/50\n",
      "40000/40000 [==============================] - 11s - loss: 0.5950 - val_loss: 0.5961\n",
      "Epoch 33/50\n",
      "40000/40000 [==============================] - 13s - loss: 0.5950 - val_loss: 0.5958\n",
      "Epoch 34/50\n",
      "40000/40000 [==============================] - 13s - loss: 0.5947 - val_loss: 0.5955\n",
      "Epoch 35/50\n",
      "40000/40000 [==============================] - 12s - loss: 0.5946 - val_loss: 0.5956\n",
      "Epoch 36/50\n",
      "40000/40000 [==============================] - 11s - loss: 0.5943 - val_loss: 0.5954\n",
      "Epoch 37/50\n",
      "40000/40000 [==============================] - 12s - loss: 0.5942 - val_loss: 0.5954\n",
      "Epoch 38/50\n",
      "40000/40000 [==============================] - 12s - loss: 0.5942 - val_loss: 0.5957\n",
      "Epoch 39/50\n",
      "40000/40000 [==============================] - 12s - loss: 0.5941 - val_loss: 0.5953\n",
      "Epoch 40/50\n",
      "40000/40000 [==============================] - 12s - loss: 0.5940 - val_loss: 0.5955\n",
      "Epoch 41/50\n",
      "40000/40000 [==============================] - 14s - loss: 0.5942 - val_loss: 0.5949\n",
      "Epoch 42/50\n",
      "40000/40000 [==============================] - 13s - loss: 0.5940 - val_loss: 0.5950\n",
      "Epoch 43/50\n",
      "40000/40000 [==============================] - 11s - loss: 0.5939 - val_loss: 0.5951\n",
      "Epoch 44/50\n",
      "40000/40000 [==============================] - 12s - loss: 0.5939 - val_loss: 0.5952\n",
      "Epoch 45/50\n",
      "40000/40000 [==============================] - 11s - loss: 0.5938 - val_loss: 0.5962\n",
      "Epoch 46/50\n",
      "40000/40000 [==============================] - 12s - loss: 0.5939 - val_loss: 0.5950\n",
      "Epoch 47/50\n",
      "40000/40000 [==============================] - 12s - loss: 0.5937 - val_loss: 0.5948\n",
      "Epoch 48/50\n",
      "40000/40000 [==============================] - 12s - loss: 0.5936 - val_loss: 0.5946\n",
      "Epoch 49/50\n",
      "40000/40000 [==============================] - 12s - loss: 0.5935 - val_loss: 0.5946\n",
      "Epoch 50/50\n",
      "40000/40000 [==============================] - 12s - loss: 0.5934 - val_loss: 0.5945\n"
     ]
    },
    {
     "data": {
      "text/plain": [
       "<keras.callbacks.History at 0x2a0a62b3080>"
      ]
     },
     "execution_count": 6,
     "metadata": {},
     "output_type": "execute_result"
    }
   ],
   "source": [
    "autoencoder.fit(X_train_gray, X_train_gray,\n",
    "                epochs=50,\n",
    "                batch_size=256,\n",
    "                shuffle=True,\n",
    "                validation_data=(X_test_gray, X_test_gray))"
   ]
  },
  {
   "cell_type": "code",
   "execution_count": 11,
   "metadata": {},
   "outputs": [],
   "source": [
    "# encode and decode some digits\n",
    "# note that we take them from the *test* set\n",
    "encoded_imgs = autoencoder.predict(X_test_gray)\n",
    "decoded_imgs = autoencoder.predict(encoded_imgs)"
   ]
  },
  {
   "cell_type": "code",
   "execution_count": null,
   "metadata": {},
   "outputs": [],
   "source": [
    "# definition to show original image and reconstructed image\n",
    "n = 12\n",
    "%matplotlib inline\n",
    "plt.figure(figsize=(20, 4))\n",
    "for i in range(10):\n",
    "    # display original\n",
    "    ax = plt.subplot(2, n, i+1)\n",
    "    plt.imshow(X_test_gray[i].reshape(32,32))\n",
    "    ax.get_xaxis().set_visible(False)\n",
    "    ax.get_yaxis().set_visible(False)\n",
    "\n",
    "    # display reconstruction\n",
    "    ax = plt.subplot(2, n, i + n)\n",
    "    plt.imshow(encoded_imgs[i].reshape(32,32))\n",
    "    ax.get_xaxis().set_visible(False)\n",
    "    ax.get_yaxis().set_visible(False)\n",
    "plt.show()"
   ]
  },
  {
   "cell_type": "code",
   "execution_count": 22,
   "metadata": {},
   "outputs": [
    {
     "data": {
      "image/png": "[encoded data removed]",
      "text/plain": [
       "<matplotlib.figure.Figure at 0x2a0b8d88630>"
      ]
     },
     "metadata": {
      "needs_background": "light"
     },
     "output_type": "display_data"
    }
   ],
   "source": [
    "n = 10\n",
    "plt.figure(figsize=(20, 8))\n",
    "for i in range(n):\n",
    "    ax = plt.subplot(1, n, i+1)\n",
    "    plt.imshow(encoded_imgs[i].reshape(32,32))\n",
    "    plt.gray()\n",
    "    ax.get_xaxis().set_visible(False)\n",
    "    ax.get_yaxis().set_visible(False)\n",
    "plt.show()"
   ]
  },
  {
   "cell_type": "code",
   "execution_count": null,
   "metadata": {},
   "outputs": [],
   "source": []
  }
 ],
 "metadata": {
  "kernelspec": {
   "display_name": "Python 3",
   "language": "python",
   "name": "python3"
  },
  "language_info": {
   "codemirror_mode": {
    "name": "ipython",
    "version": 3
   },
   "file_extension": ".py",
   "mimetype": "text/x-python",
   "name": "python",
   "nbconvert_exporter": "python",
   "pygments_lexer": "ipython3",
   "version": "3.6.3"
  }
 },
 "nbformat": 4,
 "nbformat_minor": 2
}
