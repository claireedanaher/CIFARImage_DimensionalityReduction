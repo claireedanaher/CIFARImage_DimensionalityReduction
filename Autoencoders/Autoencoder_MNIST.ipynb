{
 "cells": [
  {
   "cell_type": "markdown",
   "metadata": {},
   "source": [
    "# MNIST"
   ]
  },
  {
   "cell_type": "code",
   "execution_count": 1,
   "metadata": {},
   "outputs": [
    {
     "name": "stderr",
     "output_type": "stream",
     "text": [
      "C:\\Users\\kpvedula\\AppData\\Local\\conda\\conda\\envs\\tensorflow\\lib\\site-packages\\h5py\\__init__.py:36: FutureWarning: Conversion of the second argument of issubdtype from `float` to `np.floating` is deprecated. In future, it will be treated as `np.float64 == np.dtype(float).type`.\n",
      "  from ._conv import register_converters as _register_converters\n",
      "Using TensorFlow backend.\n"
     ]
    }
   ],
   "source": [
    "from IPython.display import Image, SVG\n",
    "import matplotlib.pyplot as plt\n",
    "\n",
    "%matplotlib inline\n",
    "\n",
    "import numpy as np\n",
    "import keras\n",
    "from keras.datasets import mnist\n",
    "from keras.models import Model, Sequential\n",
    "from keras.layers import Input, Dense, Conv2D, MaxPooling2D, UpSampling2D, Flatten, Reshape\n",
    "from keras import regularizers"
   ]
  },
  {
   "cell_type": "code",
   "execution_count": 2,
   "metadata": {},
   "outputs": [],
   "source": [
    "# Loads the training and test data sets (ignoring class labels)\n",
    "(x_train, y_train), (x_test, y_test) = mnist.load_data()\n",
    "\n",
    "# Scales the training and test data to range between 0 and 1.\n",
    "max_value = float(x_train.max())\n",
    "x_train = x_train.astype('float32') / max_value\n",
    "x_test = x_test.astype('float32') / max_value"
   ]
  },
  {
   "cell_type": "code",
   "execution_count": 3,
   "metadata": {},
   "outputs": [
    {
     "data": {
      "text/plain": [
       "((60000, 28, 28), (10000, 28, 28))"
      ]
     },
     "execution_count": 3,
     "metadata": {},
     "output_type": "execute_result"
    }
   ],
   "source": [
    "x_train.shape, x_test.shape"
   ]
  },
  {
   "cell_type": "code",
   "execution_count": 4,
   "metadata": {},
   "outputs": [
    {
     "data": {
      "text/plain": [
       "((60000, 784), (10000, 784))"
      ]
     },
     "execution_count": 4,
     "metadata": {},
     "output_type": "execute_result"
    }
   ],
   "source": [
    "x_train = x_train.reshape((len(x_train), np.prod(x_train.shape[1:])))\n",
    "x_test = x_test.reshape((len(x_test), np.prod(x_test.shape[1:])))\n",
    "\n",
    "(x_train.shape, x_test.shape)"
   ]
  },
  {
   "cell_type": "code",
   "execution_count": 5,
   "metadata": {},
   "outputs": [
    {
     "name": "stdout",
     "output_type": "stream",
     "text": [
      "Compression factor: 24.5\n",
      "_________________________________________________________________\n",
      "Layer (type)                 Output Shape              Param #   \n",
      "=================================================================\n",
      "dense_1 (Dense)              (None, 32)                25120     \n",
      "_________________________________________________________________\n",
      "dense_2 (Dense)              (None, 784)               25872     \n",
      "=================================================================\n",
      "Total params: 50,992\n",
      "Trainable params: 50,992\n",
      "Non-trainable params: 0\n",
      "_________________________________________________________________\n"
     ]
    }
   ],
   "source": [
    "# input dimension = 784\n",
    "input_dim = x_train.shape[1]\n",
    "encoding_dim = 32\n",
    "\n",
    "compression_factor = float(input_dim) / encoding_dim\n",
    "print(\"Compression factor: %s\" % compression_factor)\n",
    "\n",
    "autoencoder = Sequential()\n",
    "autoencoder.add(\n",
    "    Dense(encoding_dim, input_shape=(input_dim,), activation='relu')\n",
    ")\n",
    "autoencoder.add(\n",
    "    Dense(input_dim, activation='sigmoid')\n",
    ")\n",
    "\n",
    "autoencoder.summary()"
   ]
  },
  {
   "cell_type": "markdown",
   "metadata": {},
   "source": [
    "## Encoder Model\n",
    "\n",
    "We can extract the encoder model from the first layer of the autoencoder model. The reason we want to extract the encoder model is to examine what an encoded image looks like."
   ]
  },
  {
   "cell_type": "code",
   "execution_count": 6,
   "metadata": {},
   "outputs": [
    {
     "name": "stdout",
     "output_type": "stream",
     "text": [
      "_________________________________________________________________\n",
      "Layer (type)                 Output Shape              Param #   \n",
      "=================================================================\n",
      "input_1 (InputLayer)         (None, 784)               0         \n",
      "_________________________________________________________________\n",
      "dense_1 (Dense)              (None, 32)                25120     \n",
      "=================================================================\n",
      "Total params: 25,120\n",
      "Trainable params: 25,120\n",
      "Non-trainable params: 0\n",
      "_________________________________________________________________\n"
     ]
    }
   ],
   "source": [
    "input_img = Input(shape=(input_dim,))\n",
    "encoder_layer = autoencoder.layers[0]\n",
    "encoder = Model(input_img, encoder_layer(input_img))\n",
    "\n",
    "encoder.summary()"
   ]
  },
  {
   "cell_type": "code",
   "execution_count": 7,
   "metadata": {},
   "outputs": [
    {
     "name": "stdout",
     "output_type": "stream",
     "text": [
      "Train on 60000 samples, validate on 10000 samples\n",
      "Epoch 1/50\n",
      "60000/60000 [==============================] - 3s 45us/step - loss: 0.2764 - val_loss: 0.1852\n",
      "Epoch 2/50\n",
      "60000/60000 [==============================] - 1s 16us/step - loss: 0.1676 - val_loss: 0.1515\n",
      "Epoch 3/50\n",
      "60000/60000 [==============================] - 1s 17us/step - loss: 0.1433 - val_loss: 0.1334\n",
      "Epoch 4/50\n",
      "60000/60000 [==============================] - 1s 17us/step - loss: 0.1286 - val_loss: 0.1212\n",
      "Epoch 5/50\n",
      "60000/60000 [==============================] - 1s 17us/step - loss: 0.1182 - val_loss: 0.1126\n",
      "Epoch 6/50\n",
      "60000/60000 [==============================] - 1s 17us/step - loss: 0.1109 - val_loss: 0.1067\n",
      "Epoch 7/50\n",
      "60000/60000 [==============================] - 1s 17us/step - loss: 0.1058 - val_loss: 0.1024\n",
      "Epoch 8/50\n",
      "60000/60000 [==============================] - 1s 17us/step - loss: 0.1019 - val_loss: 0.0990\n",
      "Epoch 9/50\n",
      "60000/60000 [==============================] - 1s 17us/step - loss: 0.0990 - val_loss: 0.0967\n",
      "Epoch 10/50\n",
      "60000/60000 [==============================] - 1s 16us/step - loss: 0.0971 - val_loss: 0.0952\n",
      "Epoch 11/50\n",
      "60000/60000 [==============================] - 1s 17us/step - loss: 0.0959 - val_loss: 0.0943\n",
      "Epoch 12/50\n",
      "60000/60000 [==============================] - 1s 18us/step - loss: 0.0952 - val_loss: 0.0937\n",
      "Epoch 13/50\n",
      "60000/60000 [==============================] - 1s 17us/step - loss: 0.0947 - val_loss: 0.0933\n",
      "Epoch 14/50\n",
      "60000/60000 [==============================] - 1s 17us/step - loss: 0.0943 - val_loss: 0.0929\n",
      "Epoch 15/50\n",
      "60000/60000 [==============================] - 1s 17us/step - loss: 0.0941 - val_loss: 0.0928\n",
      "Epoch 16/50\n",
      "60000/60000 [==============================] - 1s 17us/step - loss: 0.0939 - val_loss: 0.0925\n",
      "Epoch 17/50\n",
      "60000/60000 [==============================] - 1s 18us/step - loss: 0.0937 - val_loss: 0.0926\n",
      "Epoch 18/50\n",
      "60000/60000 [==============================] - 1s 18us/step - loss: 0.0936 - val_loss: 0.0923\n",
      "Epoch 19/50\n",
      "60000/60000 [==============================] - 1s 16us/step - loss: 0.0935 - val_loss: 0.0923\n",
      "Epoch 20/50\n",
      "60000/60000 [==============================] - 1s 16us/step - loss: 0.0934 - val_loss: 0.0922\n",
      "Epoch 21/50\n",
      "60000/60000 [==============================] - 1s 16us/step - loss: 0.0933 - val_loss: 0.0921\n",
      "Epoch 22/50\n",
      "60000/60000 [==============================] - 1s 16us/step - loss: 0.0933 - val_loss: 0.0921\n",
      "Epoch 23/50\n",
      "60000/60000 [==============================] - 1s 16us/step - loss: 0.0932 - val_loss: 0.0920\n",
      "Epoch 24/50\n",
      "60000/60000 [==============================] - 1s 16us/step - loss: 0.0931 - val_loss: 0.0920\n",
      "Epoch 25/50\n",
      "60000/60000 [==============================] - 1s 16us/step - loss: 0.0931 - val_loss: 0.0918\n",
      "Epoch 26/50\n",
      "60000/60000 [==============================] - 1s 17us/step - loss: 0.0930 - val_loss: 0.0919\n",
      "Epoch 27/50\n",
      "60000/60000 [==============================] - 1s 17us/step - loss: 0.0930 - val_loss: 0.0918\n",
      "Epoch 28/50\n",
      "60000/60000 [==============================] - 1s 16us/step - loss: 0.0930 - val_loss: 0.0919\n",
      "Epoch 29/50\n",
      "60000/60000 [==============================] - 1s 16us/step - loss: 0.0930 - val_loss: 0.0918\n",
      "Epoch 30/50\n",
      "60000/60000 [==============================] - 1s 16us/step - loss: 0.0929 - val_loss: 0.0918\n",
      "Epoch 31/50\n",
      "60000/60000 [==============================] - 1s 16us/step - loss: 0.0929 - val_loss: 0.0917\n",
      "Epoch 32/50\n",
      "60000/60000 [==============================] - 1s 16us/step - loss: 0.0929 - val_loss: 0.0917\n",
      "Epoch 33/50\n",
      "60000/60000 [==============================] - 1s 16us/step - loss: 0.0928 - val_loss: 0.0918\n",
      "Epoch 34/50\n",
      "60000/60000 [==============================] - 1s 16us/step - loss: 0.0928 - val_loss: 0.0916\n",
      "Epoch 35/50\n",
      "60000/60000 [==============================] - 1s 16us/step - loss: 0.0928 - val_loss: 0.0917\n",
      "Epoch 36/50\n",
      "60000/60000 [==============================] - 1s 16us/step - loss: 0.0928 - val_loss: 0.0916\n",
      "Epoch 37/50\n",
      "60000/60000 [==============================] - 1s 16us/step - loss: 0.0928 - val_loss: 0.0918\n",
      "Epoch 38/50\n",
      "60000/60000 [==============================] - 1s 16us/step - loss: 0.0928 - val_loss: 0.0916\n",
      "Epoch 39/50\n",
      "60000/60000 [==============================] - 1s 16us/step - loss: 0.0927 - val_loss: 0.0916\n",
      "Epoch 40/50\n",
      "60000/60000 [==============================] - 1s 17us/step - loss: 0.0927 - val_loss: 0.0916\n",
      "Epoch 41/50\n",
      "60000/60000 [==============================] - 1s 16us/step - loss: 0.0927 - val_loss: 0.0915\n",
      "Epoch 42/50\n",
      "60000/60000 [==============================] - 1s 17us/step - loss: 0.0927 - val_loss: 0.0915\n",
      "Epoch 43/50\n",
      "60000/60000 [==============================] - 1s 16us/step - loss: 0.0927 - val_loss: 0.0915\n",
      "Epoch 44/50\n",
      "60000/60000 [==============================] - 1s 16us/step - loss: 0.0927 - val_loss: 0.0916\n",
      "Epoch 45/50\n",
      "60000/60000 [==============================] - 1s 16us/step - loss: 0.0926 - val_loss: 0.0915\n",
      "Epoch 46/50\n",
      "60000/60000 [==============================] - 1s 17us/step - loss: 0.0926 - val_loss: 0.0915\n",
      "Epoch 47/50\n",
      "60000/60000 [==============================] - 1s 18us/step - loss: 0.0926 - val_loss: 0.0914\n",
      "Epoch 48/50\n",
      "60000/60000 [==============================] - 1s 16us/step - loss: 0.0926 - val_loss: 0.0915\n",
      "Epoch 49/50\n",
      "60000/60000 [==============================] - 1s 16us/step - loss: 0.0926 - val_loss: 0.0915\n",
      "Epoch 50/50\n",
      "60000/60000 [==============================] - 1s 16us/step - loss: 0.0926 - val_loss: 0.0915\n"
     ]
    },
    {
     "data": {
      "text/plain": [
       "<keras.callbacks.History at 0x1f17f5ce828>"
      ]
     },
     "execution_count": 7,
     "metadata": {},
     "output_type": "execute_result"
    }
   ],
   "source": [
    "autoencoder.compile(optimizer='adam', loss='binary_crossentropy')\n",
    "autoencoder.fit(x_train, x_train,\n",
    "                epochs=50,\n",
    "                batch_size=256,\n",
    "                shuffle=True,\n",
    "                validation_data=(x_test, x_test))"
   ]
  },
  {
   "cell_type": "code",
   "execution_count": 8,
   "metadata": {},
   "outputs": [
    {
     "data": {
      "image/png": "[encoded data removed]",
      "text/plain": [
       "<matplotlib.figure.Figure at 0x1f101bbb2b0>"
      ]
     },
     "metadata": {},
     "output_type": "display_data"
    }
   ],
   "source": [
    "num_images = 10\n",
    "np.random.seed(42)\n",
    "random_test_images = np.random.randint(x_test.shape[0], size=num_images)\n",
    "\n",
    "encoded_imgs = encoder.predict(x_test)\n",
    "decoded_imgs = autoencoder.predict(x_test)\n",
    "\n",
    "plt.figure(figsize=(18, 4))\n",
    "\n",
    "for i, image_idx in enumerate(random_test_images):\n",
    "    # plot original image\n",
    "    ax = plt.subplot(3, num_images, i + 1)\n",
    "    plt.imshow(x_test[image_idx].reshape(28, 28))\n",
    "    plt.gray()\n",
    "    ax.get_xaxis().set_visible(False)\n",
    "    ax.get_yaxis().set_visible(False)\n",
    "    \n",
    "    # plot encoded image\n",
    "    ax = plt.subplot(3, num_images, num_images + i + 1)\n",
    "    plt.imshow(encoded_imgs[image_idx].reshape(8, 4))\n",
    "    plt.gray()\n",
    "    ax.get_xaxis().set_visible(False)\n",
    "    ax.get_yaxis().set_visible(False)\n",
    "\n",
    "    # plot reconstructed image\n",
    "    ax = plt.subplot(3, num_images, 2*num_images + i + 1)\n",
    "    plt.imshow(decoded_imgs[image_idx].reshape(28, 28))\n",
    "    plt.gray()\n",
    "    ax.get_xaxis().set_visible(False)\n",
    "    ax.get_yaxis().set_visible(False)\n",
    "plt.show()"
   ]
  },
  {
   "cell_type": "markdown",
   "metadata": {},
   "source": [
    "### Deep Autoencoder"
   ]
  },
  {
   "cell_type": "code",
   "execution_count": 9,
   "metadata": {},
   "outputs": [
    {
     "name": "stdout",
     "output_type": "stream",
     "text": [
      "_________________________________________________________________\n",
      "Layer (type)                 Output Shape              Param #   \n",
      "=================================================================\n",
      "dense_3 (Dense)              (None, 128)               100480    \n",
      "_________________________________________________________________\n",
      "dense_4 (Dense)              (None, 64)                8256      \n",
      "_________________________________________________________________\n",
      "dense_5 (Dense)              (None, 32)                2080      \n",
      "_________________________________________________________________\n",
      "dense_6 (Dense)              (None, 64)                2112      \n",
      "_________________________________________________________________\n",
      "dense_7 (Dense)              (None, 128)               8320      \n",
      "_________________________________________________________________\n",
      "dense_8 (Dense)              (None, 784)               101136    \n",
      "=================================================================\n",
      "Total params: 222,384\n",
      "Trainable params: 222,384\n",
      "Non-trainable params: 0\n",
      "_________________________________________________________________\n"
     ]
    }
   ],
   "source": [
    "autoencoder = Sequential()\n",
    "\n",
    "# Encoder Layers\n",
    "autoencoder.add(Dense(4 * encoding_dim, input_shape=(input_dim,), activation='relu'))\n",
    "autoencoder.add(Dense(2 * encoding_dim, activation='relu'))\n",
    "autoencoder.add(Dense(encoding_dim, activation='relu'))\n",
    "\n",
    "# Decoder Layers\n",
    "autoencoder.add(Dense(2 * encoding_dim, activation='relu'))\n",
    "autoencoder.add(Dense(4 * encoding_dim, activation='relu'))\n",
    "autoencoder.add(Dense(input_dim, activation='sigmoid'))\n",
    "\n",
    "autoencoder.summary()"
   ]
  },
  {
   "cell_type": "markdown",
   "metadata": {},
   "source": [
    "## Encoder Model\n"
   ]
  },
  {
   "cell_type": "code",
   "execution_count": 10,
   "metadata": {},
   "outputs": [
    {
     "name": "stdout",
     "output_type": "stream",
     "text": [
      "_________________________________________________________________\n",
      "Layer (type)                 Output Shape              Param #   \n",
      "=================================================================\n",
      "input_2 (InputLayer)         (None, 784)               0         \n",
      "_________________________________________________________________\n",
      "dense_3 (Dense)              (None, 128)               100480    \n",
      "_________________________________________________________________\n",
      "dense_4 (Dense)              (None, 64)                8256      \n",
      "_________________________________________________________________\n",
      "dense_5 (Dense)              (None, 32)                2080      \n",
      "=================================================================\n",
      "Total params: 110,816\n",
      "Trainable params: 110,816\n",
      "Non-trainable params: 0\n",
      "_________________________________________________________________\n"
     ]
    }
   ],
   "source": [
    "input_img = Input(shape=(input_dim,))\n",
    "encoder_layer1 = autoencoder.layers[0]\n",
    "encoder_layer2 = autoencoder.layers[1]\n",
    "encoder_layer3 = autoencoder.layers[2]\n",
    "encoder = Model(input_img, encoder_layer3(encoder_layer2(encoder_layer1(input_img))))\n",
    "\n",
    "encoder.summary()"
   ]
  },
  {
   "cell_type": "code",
   "execution_count": 11,
   "metadata": {},
   "outputs": [
    {
     "name": "stdout",
     "output_type": "stream",
     "text": [
      "Train on 60000 samples, validate on 10000 samples\n",
      "Epoch 1/50\n",
      "60000/60000 [==============================] - 2s 34us/step - loss: 0.2470 - val_loss: 0.1677\n",
      "Epoch 2/50\n",
      "60000/60000 [==============================] - 1s 24us/step - loss: 0.1515 - val_loss: 0.1371\n",
      "Epoch 3/50\n",
      "60000/60000 [==============================] - 1s 24us/step - loss: 0.1315 - val_loss: 0.1246\n",
      "Epoch 4/50\n",
      "60000/60000 [==============================] - 1s 23us/step - loss: 0.1225 - val_loss: 0.1177\n",
      "Epoch 5/50\n",
      "60000/60000 [==============================] - 1s 24us/step - loss: 0.1168 - val_loss: 0.1128\n",
      "Epoch 6/50\n",
      "60000/60000 [==============================] - 1s 24us/step - loss: 0.1126 - val_loss: 0.1098\n",
      "Epoch 7/50\n",
      "60000/60000 [==============================] - 1s 23us/step - loss: 0.1095 - val_loss: 0.1068\n",
      "Epoch 8/50\n",
      "60000/60000 [==============================] - 1s 23us/step - loss: 0.1067 - val_loss: 0.1041\n",
      "Epoch 9/50\n",
      "60000/60000 [==============================] - 1s 24us/step - loss: 0.1045 - val_loss: 0.1023\n",
      "Epoch 10/50\n",
      "60000/60000 [==============================] - 1s 23us/step - loss: 0.1028 - val_loss: 0.1010\n",
      "Epoch 11/50\n",
      "60000/60000 [==============================] - 1s 24us/step - loss: 0.1013 - val_loss: 0.0998\n",
      "Epoch 12/50\n",
      "60000/60000 [==============================] - 2s 25us/step - loss: 0.1000 - val_loss: 0.0984\n",
      "Epoch 13/50\n",
      "60000/60000 [==============================] - 1s 24us/step - loss: 0.0988 - val_loss: 0.0973\n",
      "Epoch 14/50\n",
      "60000/60000 [==============================] - 2s 26us/step - loss: 0.0976 - val_loss: 0.0961\n",
      "Epoch 15/50\n",
      "60000/60000 [==============================] - 1s 24us/step - loss: 0.0965 - val_loss: 0.0953\n",
      "Epoch 16/50\n",
      "60000/60000 [==============================] - 1s 25us/step - loss: 0.0956 - val_loss: 0.0943\n",
      "Epoch 17/50\n",
      "60000/60000 [==============================] - 1s 24us/step - loss: 0.0948 - val_loss: 0.0936\n",
      "Epoch 18/50\n",
      "60000/60000 [==============================] - 1s 24us/step - loss: 0.0941 - val_loss: 0.0928\n",
      "Epoch 19/50\n",
      "60000/60000 [==============================] - 1s 24us/step - loss: 0.0935 - val_loss: 0.0922\n",
      "Epoch 20/50\n",
      "60000/60000 [==============================] - 1s 24us/step - loss: 0.0929 - val_loss: 0.0920\n",
      "Epoch 21/50\n",
      "60000/60000 [==============================] - 1s 24us/step - loss: 0.0924 - val_loss: 0.0913\n",
      "Epoch 22/50\n",
      "60000/60000 [==============================] - 1s 24us/step - loss: 0.0919 - val_loss: 0.0916\n",
      "Epoch 23/50\n",
      "60000/60000 [==============================] - 1s 24us/step - loss: 0.0916 - val_loss: 0.0905\n",
      "Epoch 24/50\n",
      "60000/60000 [==============================] - 1s 23us/step - loss: 0.0911 - val_loss: 0.0902\n",
      "Epoch 25/50\n",
      "60000/60000 [==============================] - 1s 24us/step - loss: 0.0908 - val_loss: 0.0900\n",
      "Epoch 26/50\n",
      "60000/60000 [==============================] - 1s 24us/step - loss: 0.0905 - val_loss: 0.0897\n",
      "Epoch 27/50\n",
      "60000/60000 [==============================] - 1s 24us/step - loss: 0.0902 - val_loss: 0.0896\n",
      "Epoch 28/50\n",
      "60000/60000 [==============================] - 1s 25us/step - loss: 0.0899 - val_loss: 0.0892\n",
      "Epoch 29/50\n",
      "60000/60000 [==============================] - 1s 23us/step - loss: 0.0896 - val_loss: 0.0889\n",
      "Epoch 30/50\n",
      "60000/60000 [==============================] - 2s 26us/step - loss: 0.0894 - val_loss: 0.0887\n",
      "Epoch 31/50\n",
      "60000/60000 [==============================] - 1s 24us/step - loss: 0.0891 - val_loss: 0.0883\n",
      "Epoch 32/50\n",
      "60000/60000 [==============================] - 1s 23us/step - loss: 0.0889 - val_loss: 0.0882\n",
      "Epoch 33/50\n",
      "60000/60000 [==============================] - 1s 23us/step - loss: 0.0887 - val_loss: 0.0882\n",
      "Epoch 34/50\n",
      "60000/60000 [==============================] - 1s 23us/step - loss: 0.0886 - val_loss: 0.0880\n",
      "Epoch 35/50\n",
      "60000/60000 [==============================] - 1s 23us/step - loss: 0.0884 - val_loss: 0.0879\n",
      "Epoch 36/50\n",
      "60000/60000 [==============================] - 1s 23us/step - loss: 0.0882 - val_loss: 0.0877\n",
      "Epoch 37/50\n",
      "60000/60000 [==============================] - 1s 23us/step - loss: 0.0880 - val_loss: 0.0872\n",
      "Epoch 38/50\n",
      "60000/60000 [==============================] - 1s 23us/step - loss: 0.0878 - val_loss: 0.0871\n",
      "Epoch 39/50\n",
      "60000/60000 [==============================] - 1s 23us/step - loss: 0.0876 - val_loss: 0.0871\n",
      "Epoch 40/50\n",
      "60000/60000 [==============================] - 1s 23us/step - loss: 0.0874 - val_loss: 0.0866\n",
      "Epoch 41/50\n",
      "60000/60000 [==============================] - 1s 23us/step - loss: 0.0872 - val_loss: 0.0865\n",
      "Epoch 42/50\n",
      "60000/60000 [==============================] - 1s 24us/step - loss: 0.0870 - val_loss: 0.0864\n",
      "Epoch 43/50\n",
      "60000/60000 [==============================] - 1s 23us/step - loss: 0.0869 - val_loss: 0.0864\n",
      "Epoch 44/50\n",
      "60000/60000 [==============================] - 1s 24us/step - loss: 0.0867 - val_loss: 0.0863\n",
      "Epoch 45/50\n",
      "60000/60000 [==============================] - 1s 23us/step - loss: 0.0866 - val_loss: 0.0860\n",
      "Epoch 46/50\n",
      "60000/60000 [==============================] - 1s 23us/step - loss: 0.0865 - val_loss: 0.0862\n",
      "Epoch 47/50\n",
      "60000/60000 [==============================] - 1s 24us/step - loss: 0.0863 - val_loss: 0.0856\n",
      "Epoch 48/50\n",
      "60000/60000 [==============================] - 1s 23us/step - loss: 0.0862 - val_loss: 0.0857\n",
      "Epoch 49/50\n",
      "60000/60000 [==============================] - 1s 23us/step - loss: 0.0861 - val_loss: 0.0860\n",
      "Epoch 50/50\n",
      "60000/60000 [==============================] - 1s 23us/step - loss: 0.0861 - val_loss: 0.0856\n"
     ]
    },
    {
     "data": {
      "text/plain": [
       "<keras.callbacks.History at 0x1f10dcad160>"
      ]
     },
     "execution_count": 11,
     "metadata": {},
     "output_type": "execute_result"
    }
   ],
   "source": [
    "autoencoder.compile(optimizer='adam', loss='binary_crossentropy')\n",
    "autoencoder.fit(x_train, x_train,\n",
    "                epochs=50,\n",
    "                batch_size=256,\n",
    "                validation_data=(x_test, x_test))"
   ]
  },
  {
   "cell_type": "code",
   "execution_count": 12,
   "metadata": {},
   "outputs": [
    {
     "data": {
      "image/png": "[encoded data removed]",
      "text/plain": [
       "<matplotlib.figure.Figure at 0x1f1296017f0>"
      ]
     },
     "metadata": {},
     "output_type": "display_data"
    }
   ],
   "source": [
    "num_images = 10\n",
    "np.random.seed(42)\n",
    "random_test_images = np.random.randint(x_test.shape[0], size=num_images)\n",
    "\n",
    "encoded_imgs = encoder.predict(x_test)\n",
    "decoded_imgs = autoencoder.predict(x_test)\n",
    "\n",
    "plt.figure(figsize=(18, 4))\n",
    "\n",
    "for i, image_idx in enumerate(random_test_images):\n",
    "    # plot original image\n",
    "    ax = plt.subplot(3, num_images, i + 1)\n",
    "    plt.imshow(x_test[image_idx].reshape(28, 28))\n",
    "    plt.gray()\n",
    "    ax.get_xaxis().set_visible(False)\n",
    "    ax.get_yaxis().set_visible(False)\n",
    "    \n",
    "    # plot encoded image\n",
    "    ax = plt.subplot(3, num_images, num_images + i + 1)\n",
    "    plt.imshow(encoded_imgs[image_idx].reshape(8, 4))\n",
    "    plt.gray()\n",
    "    ax.get_xaxis().set_visible(False)\n",
    "    ax.get_yaxis().set_visible(False)\n",
    "\n",
    "    # plot reconstructed image\n",
    "    ax = plt.subplot(3, num_images, 2*num_images + i + 1)\n",
    "    plt.imshow(decoded_imgs[image_idx].reshape(28, 28))\n",
    "    plt.gray()\n",
    "    ax.get_xaxis().set_visible(False)\n",
    "    ax.get_yaxis().set_visible(False)\n",
    "plt.show()"
   ]
  },
  {
   "cell_type": "markdown",
   "metadata": {},
   "source": [
    "## Convolutional Autoencoder"
   ]
  },
  {
   "cell_type": "code",
   "execution_count": 13,
   "metadata": {},
   "outputs": [],
   "source": [
    "x_train = x_train.reshape((len(x_train), 28, 28, 1))\n",
    "x_test = x_test.reshape((len(x_test), 28, 28, 1))"
   ]
  },
  {
   "cell_type": "code",
   "execution_count": 14,
   "metadata": {
    "scrolled": false
   },
   "outputs": [
    {
     "name": "stdout",
     "output_type": "stream",
     "text": [
      "_________________________________________________________________\n",
      "Layer (type)                 Output Shape              Param #   \n",
      "=================================================================\n",
      "conv2d_1 (Conv2D)            (None, 28, 28, 16)        160       \n",
      "_________________________________________________________________\n",
      "max_pooling2d_1 (MaxPooling2 (None, 14, 14, 16)        0         \n",
      "_________________________________________________________________\n",
      "conv2d_2 (Conv2D)            (None, 14, 14, 8)         1160      \n",
      "_________________________________________________________________\n",
      "max_pooling2d_2 (MaxPooling2 (None, 7, 7, 8)           0         \n",
      "_________________________________________________________________\n",
      "conv2d_3 (Conv2D)            (None, 4, 4, 8)           584       \n",
      "_________________________________________________________________\n",
      "flatten_1 (Flatten)          (None, 128)               0         \n",
      "_________________________________________________________________\n",
      "reshape_1 (Reshape)          (None, 4, 4, 8)           0         \n",
      "_________________________________________________________________\n",
      "conv2d_4 (Conv2D)            (None, 4, 4, 8)           584       \n",
      "_________________________________________________________________\n",
      "up_sampling2d_1 (UpSampling2 (None, 8, 8, 8)           0         \n",
      "_________________________________________________________________\n",
      "conv2d_5 (Conv2D)            (None, 8, 8, 8)           584       \n",
      "_________________________________________________________________\n",
      "up_sampling2d_2 (UpSampling2 (None, 16, 16, 8)         0         \n",
      "_________________________________________________________________\n",
      "conv2d_6 (Conv2D)            (None, 14, 14, 16)        1168      \n",
      "_________________________________________________________________\n",
      "up_sampling2d_3 (UpSampling2 (None, 28, 28, 16)        0         \n",
      "_________________________________________________________________\n",
      "conv2d_7 (Conv2D)            (None, 28, 28, 1)         145       \n",
      "=================================================================\n",
      "Total params: 4,385\n",
      "Trainable params: 4,385\n",
      "Non-trainable params: 0\n",
      "_________________________________________________________________\n"
     ]
    }
   ],
   "source": [
    "autoencoder = Sequential()\n",
    "\n",
    "# Encoder Layers\n",
    "autoencoder.add(Conv2D(16, (3, 3), activation='relu', padding='same', input_shape=x_train.shape[1:]))\n",
    "autoencoder.add(MaxPooling2D((2, 2), padding='same'))\n",
    "autoencoder.add(Conv2D(8, (3, 3), activation='relu', padding='same'))\n",
    "autoencoder.add(MaxPooling2D((2, 2), padding='same'))\n",
    "autoencoder.add(Conv2D(8, (3, 3), strides=(2,2), activation='relu', padding='same'))\n",
    "\n",
    "# Flatten encoding for visualization\n",
    "autoencoder.add(Flatten())\n",
    "autoencoder.add(Reshape((4, 4, 8)))\n",
    "\n",
    "# Decoder Layers\n",
    "autoencoder.add(Conv2D(8, (3, 3), activation='relu', padding='same'))\n",
    "autoencoder.add(UpSampling2D((2, 2)))\n",
    "autoencoder.add(Conv2D(8, (3, 3), activation='relu', padding='same'))\n",
    "autoencoder.add(UpSampling2D((2, 2)))\n",
    "autoencoder.add(Conv2D(16, (3, 3), activation='relu'))\n",
    "autoencoder.add(UpSampling2D((2, 2)))\n",
    "autoencoder.add(Conv2D(1, (3, 3), activation='sigmoid', padding='same'))\n",
    "\n",
    "autoencoder.summary()"
   ]
  },
  {
   "cell_type": "markdown",
   "metadata": {},
   "source": [
    "## Encoder Model\n"
   ]
  },
  {
   "cell_type": "code",
   "execution_count": 15,
   "metadata": {},
   "outputs": [
    {
     "name": "stdout",
     "output_type": "stream",
     "text": [
      "_________________________________________________________________\n",
      "Layer (type)                 Output Shape              Param #   \n",
      "=================================================================\n",
      "conv2d_1_input (InputLayer)  (None, 28, 28, 1)         0         \n",
      "_________________________________________________________________\n",
      "conv2d_1 (Conv2D)            (None, 28, 28, 16)        160       \n",
      "_________________________________________________________________\n",
      "max_pooling2d_1 (MaxPooling2 (None, 14, 14, 16)        0         \n",
      "_________________________________________________________________\n",
      "conv2d_2 (Conv2D)            (None, 14, 14, 8)         1160      \n",
      "_________________________________________________________________\n",
      "max_pooling2d_2 (MaxPooling2 (None, 7, 7, 8)           0         \n",
      "_________________________________________________________________\n",
      "conv2d_3 (Conv2D)            (None, 4, 4, 8)           584       \n",
      "_________________________________________________________________\n",
      "flatten_1 (Flatten)          (None, 128)               0         \n",
      "=================================================================\n",
      "Total params: 1,904\n",
      "Trainable params: 1,904\n",
      "Non-trainable params: 0\n",
      "_________________________________________________________________\n"
     ]
    }
   ],
   "source": [
    "encoder = Model(inputs=autoencoder.input, outputs=autoencoder.get_layer('flatten_1').output)\n",
    "encoder.summary()"
   ]
  },
  {
   "cell_type": "code",
   "execution_count": 16,
   "metadata": {},
   "outputs": [
    {
     "name": "stdout",
     "output_type": "stream",
     "text": [
      "Train on 60000 samples, validate on 10000 samples\n",
      "Epoch 1/70\n",
      "60000/60000 [==============================] - 10s 170us/step - loss: 0.1996 - val_loss: 0.1365\n",
      "Epoch 2/70\n",
      "60000/60000 [==============================] - 9s 145us/step - loss: 0.1254 - val_loss: 0.1155\n",
      "Epoch 3/70\n",
      "60000/60000 [==============================] - 9s 146us/step - loss: 0.1127 - val_loss: 0.1079\n",
      "Epoch 4/70\n",
      "60000/60000 [==============================] - 9s 147us/step - loss: 0.1068 - val_loss: 0.1036\n",
      "Epoch 5/70\n",
      "60000/60000 [==============================] - 9s 145us/step - loss: 0.1028 - val_loss: 0.1000\n",
      "Epoch 6/70\n",
      "60000/60000 [==============================] - 9s 146us/step - loss: 0.1000 - val_loss: 0.0974\n",
      "Epoch 7/70\n",
      "60000/60000 [==============================] - 9s 145us/step - loss: 0.0978 - val_loss: 0.0957\n",
      "Epoch 8/70\n",
      "60000/60000 [==============================] - 9s 146us/step - loss: 0.0961 - val_loss: 0.0941\n",
      "Epoch 9/70\n",
      "60000/60000 [==============================] - 9s 146us/step - loss: 0.0947 - val_loss: 0.0928\n",
      "Epoch 10/70\n",
      "60000/60000 [==============================] - 9s 146us/step - loss: 0.0935 - val_loss: 0.0917\n",
      "Epoch 11/70\n",
      "60000/60000 [==============================] - 9s 146us/step - loss: 0.0925 - val_loss: 0.0908\n",
      "Epoch 12/70\n",
      "60000/60000 [==============================] - 9s 146us/step - loss: 0.0916 - val_loss: 0.0900\n",
      "Epoch 13/70\n",
      "60000/60000 [==============================] - 9s 148us/step - loss: 0.0909 - val_loss: 0.0894\n",
      "Epoch 14/70\n",
      "60000/60000 [==============================] - 9s 148us/step - loss: 0.0902 - val_loss: 0.0887\n",
      "Epoch 15/70\n",
      "60000/60000 [==============================] - 9s 147us/step - loss: 0.0897 - val_loss: 0.0884\n",
      "Epoch 16/70\n",
      "60000/60000 [==============================] - 9s 147us/step - loss: 0.0892 - val_loss: 0.0880\n",
      "Epoch 17/70\n",
      "60000/60000 [==============================] - 9s 144us/step - loss: 0.0887 - val_loss: 0.0875\n",
      "Epoch 18/70\n",
      "60000/60000 [==============================] - 9s 145us/step - loss: 0.0883 - val_loss: 0.0871\n",
      "Epoch 19/70\n",
      "60000/60000 [==============================] - 9s 145us/step - loss: 0.0880 - val_loss: 0.0868\n",
      "Epoch 20/70\n",
      "60000/60000 [==============================] - 9s 145us/step - loss: 0.0877 - val_loss: 0.0866\n",
      "Epoch 21/70\n",
      "60000/60000 [==============================] - 9s 144us/step - loss: 0.0874 - val_loss: 0.0861\n",
      "Epoch 22/70\n",
      "60000/60000 [==============================] - 9s 143us/step - loss: 0.0871 - val_loss: 0.0861\n",
      "Epoch 23/70\n",
      "60000/60000 [==============================] - 9s 146us/step - loss: 0.0869 - val_loss: 0.0856\n",
      "Epoch 24/70\n",
      "60000/60000 [==============================] - 9s 146us/step - loss: 0.0867 - val_loss: 0.0855\n",
      "Epoch 25/70\n",
      "60000/60000 [==============================] - 9s 147us/step - loss: 0.0865 - val_loss: 0.0855\n",
      "Epoch 26/70\n",
      "60000/60000 [==============================] - 9s 146us/step - loss: 0.0862 - val_loss: 0.0855\n",
      "Epoch 27/70\n",
      "60000/60000 [==============================] - 9s 148us/step - loss: 0.0861 - val_loss: 0.0849\n",
      "Epoch 28/70\n",
      "60000/60000 [==============================] - 9s 149us/step - loss: 0.0859 - val_loss: 0.0849\n",
      "Epoch 29/70\n",
      "60000/60000 [==============================] - 9s 148us/step - loss: 0.0858 - val_loss: 0.0848\n",
      "Epoch 30/70\n",
      "60000/60000 [==============================] - 9s 147us/step - loss: 0.0856 - val_loss: 0.0844\n",
      "Epoch 31/70\n",
      "60000/60000 [==============================] - 9s 149us/step - loss: 0.0855 - val_loss: 0.0844\n",
      "Epoch 32/70\n",
      "60000/60000 [==============================] - 9s 145us/step - loss: 0.0854 - val_loss: 0.0848\n",
      "Epoch 33/70\n",
      "60000/60000 [==============================] - 9s 144us/step - loss: 0.0852 - val_loss: 0.0846\n",
      "Epoch 34/70\n",
      "60000/60000 [==============================] - 9s 143us/step - loss: 0.0851 - val_loss: 0.0840\n",
      "Epoch 35/70\n",
      "60000/60000 [==============================] - 9s 144us/step - loss: 0.0850 - val_loss: 0.0838\n",
      "Epoch 36/70\n",
      "60000/60000 [==============================] - 9s 143us/step - loss: 0.0849 - val_loss: 0.0838\n",
      "Epoch 37/70\n",
      "60000/60000 [==============================] - 9s 143us/step - loss: 0.0848 - val_loss: 0.0837\n",
      "Epoch 38/70\n",
      "60000/60000 [==============================] - 9s 144us/step - loss: 0.0847 - val_loss: 0.0835\n",
      "Epoch 39/70\n",
      "60000/60000 [==============================] - 9s 145us/step - loss: 0.0846 - val_loss: 0.0842\n",
      "Epoch 40/70\n",
      "60000/60000 [==============================] - 9s 144us/step - loss: 0.0845 - val_loss: 0.0835\n",
      "Epoch 41/70\n",
      "60000/60000 [==============================] - 9s 144us/step - loss: 0.0844 - val_loss: 0.0834\n",
      "Epoch 42/70\n",
      "60000/60000 [==============================] - 9s 143us/step - loss: 0.0843 - val_loss: 0.0832\n",
      "Epoch 43/70\n",
      "60000/60000 [==============================] - 9s 144us/step - loss: 0.0842 - val_loss: 0.0832\n",
      "Epoch 44/70\n",
      "60000/60000 [==============================] - 9s 144us/step - loss: 0.0841 - val_loss: 0.0834\n",
      "Epoch 45/70\n",
      "60000/60000 [==============================] - 9s 144us/step - loss: 0.0841 - val_loss: 0.0830\n",
      "Epoch 46/70\n",
      "60000/60000 [==============================] - 9s 144us/step - loss: 0.0840 - val_loss: 0.0833\n",
      "Epoch 47/70\n",
      "60000/60000 [==============================] - 9s 144us/step - loss: 0.0839 - val_loss: 0.0828\n",
      "Epoch 48/70\n",
      "60000/60000 [==============================] - 9s 144us/step - loss: 0.0838 - val_loss: 0.0831\n",
      "Epoch 49/70\n",
      "60000/60000 [==============================] - 9s 143us/step - loss: 0.0838 - val_loss: 0.0830\n",
      "Epoch 50/70\n",
      "60000/60000 [==============================] - 9s 143us/step - loss: 0.0837 - val_loss: 0.0829\n",
      "Epoch 51/70\n",
      "60000/60000 [==============================] - 9s 143us/step - loss: 0.0836 - val_loss: 0.0828\n",
      "Epoch 52/70\n",
      "60000/60000 [==============================] - 9s 143us/step - loss: 0.0836 - val_loss: 0.0832\n",
      "Epoch 53/70\n",
      "60000/60000 [==============================] - 9s 145us/step - loss: 0.0836 - val_loss: 0.0825\n",
      "Epoch 54/70\n",
      "60000/60000 [==============================] - 9s 146us/step - loss: 0.0835 - val_loss: 0.0824\n",
      "Epoch 55/70\n",
      "60000/60000 [==============================] - 9s 147us/step - loss: 0.0834 - val_loss: 0.0824\n",
      "Epoch 56/70\n",
      "60000/60000 [==============================] - 9s 147us/step - loss: 0.0834 - val_loss: 0.0825\n",
      "Epoch 57/70\n",
      "60000/60000 [==============================] - 9s 145us/step - loss: 0.0833 - val_loss: 0.0827\n",
      "Epoch 58/70\n",
      "60000/60000 [==============================] - 9s 146us/step - loss: 0.0833 - val_loss: 0.0825\n",
      "Epoch 59/70\n",
      "60000/60000 [==============================] - 9s 146us/step - loss: 0.0832 - val_loss: 0.0824\n",
      "Epoch 60/70\n",
      "60000/60000 [==============================] - 9s 146us/step - loss: 0.0832 - val_loss: 0.0823\n",
      "Epoch 61/70\n",
      "60000/60000 [==============================] - 9s 145us/step - loss: 0.0832 - val_loss: 0.0823\n",
      "Epoch 62/70\n",
      "60000/60000 [==============================] - 9s 151us/step - loss: 0.0831 - val_loss: 0.0822\n",
      "Epoch 63/70\n",
      "60000/60000 [==============================] - 9s 146us/step - loss: 0.0830 - val_loss: 0.0822\n",
      "Epoch 64/70\n",
      "60000/60000 [==============================] - 9s 146us/step - loss: 0.0830 - val_loss: 0.0820\n",
      "Epoch 65/70\n",
      "60000/60000 [==============================] - 9s 144us/step - loss: 0.0829 - val_loss: 0.0820\n",
      "Epoch 66/70\n",
      "60000/60000 [==============================] - 9s 146us/step - loss: 0.0829 - val_loss: 0.0821\n",
      "Epoch 67/70\n",
      "60000/60000 [==============================] - 9s 147us/step - loss: 0.0829 - val_loss: 0.0821\n",
      "Epoch 68/70\n",
      "60000/60000 [==============================] - 9s 146us/step - loss: 0.0829 - val_loss: 0.0821\n",
      "Epoch 69/70\n",
      "60000/60000 [==============================] - 9s 146us/step - loss: 0.0828 - val_loss: 0.0819\n",
      "Epoch 70/70\n",
      "60000/60000 [==============================] - 9s 146us/step - loss: 0.0828 - val_loss: 0.0818\n"
     ]
    },
    {
     "data": {
      "text/plain": [
       "<keras.callbacks.History at 0x1f12443c400>"
      ]
     },
     "execution_count": 16,
     "metadata": {},
     "output_type": "execute_result"
    }
   ],
   "source": [
    "autoencoder.compile(optimizer='adam', loss='binary_crossentropy')\n",
    "autoencoder.fit(x_train, x_train,\n",
    "                epochs=70,\n",
    "                batch_size=128,\n",
    "                validation_data=(x_test, x_test))"
   ]
  },
  {
   "cell_type": "code",
   "execution_count": 17,
   "metadata": {},
   "outputs": [
    {
     "data": {
      "image/png": "[encoded data removed]",
      "text/plain": [
       "<matplotlib.figure.Figure at 0x1f12477c048>"
      ]
     },
     "metadata": {},
     "output_type": "display_data"
    }
   ],
   "source": [
    "num_images = 10\n",
    "np.random.seed(42)\n",
    "random_test_images = np.random.randint(x_test.shape[0], size=num_images)\n",
    "\n",
    "encoded_imgs = encoder.predict(x_test)\n",
    "decoded_imgs = autoencoder.predict(x_test)\n",
    "\n",
    "plt.figure(figsize=(18, 4))\n",
    "\n",
    "for i, image_idx in enumerate(random_test_images):\n",
    "    # plot original image\n",
    "    ax = plt.subplot(3, num_images, i + 1)\n",
    "    plt.imshow(x_test[image_idx].reshape(28, 28))\n",
    "    plt.gray()\n",
    "    ax.get_xaxis().set_visible(False)\n",
    "    ax.get_yaxis().set_visible(False)\n",
    "    \n",
    "    # plot encoded image\n",
    "    ax = plt.subplot(3, num_images, num_images + i + 1)\n",
    "    plt.imshow(encoded_imgs[image_idx].reshape(16, 8))\n",
    "    plt.gray()\n",
    "    ax.get_xaxis().set_visible(False)\n",
    "    ax.get_yaxis().set_visible(False)\n",
    "\n",
    "    # plot reconstructed image\n",
    "    ax = plt.subplot(3, num_images, 2*num_images + i + 1)\n",
    "    plt.imshow(decoded_imgs[image_idx].reshape(28, 28))\n",
    "    plt.gray()\n",
    "    ax.get_xaxis().set_visible(False)\n",
    "    ax.get_yaxis().set_visible(False)\n",
    "plt.show()"
   ]
  },
  {
   "cell_type": "code",
   "execution_count": 24,
   "metadata": {},
   "outputs": [],
   "source": [
    "from sklearn.model_selection import train_test_split \n",
    "import pandas as pd\n",
    "from sklearn.decomposition import PCA\n",
    "\n",
    "from sklearn.neighbors import KNeighborsClassifier\n",
    "from sklearn.metrics import confusion_matrix\n",
    "from sklearn import preprocessing\n",
    "from sklearn.cluster import KMeans\n",
    "from sklearn.utils import check_random_state\n",
    "from sklearn.decomposition import PCA\n",
    "from sklearn.manifold import SpectralEmbedding\n",
    "from sklearn.manifold import Isomap\n",
    "from sklearn import svm"
   ]
  },
  {
   "cell_type": "code",
   "execution_count": 25,
   "metadata": {},
   "outputs": [],
   "source": [
    "def train_test(data,labels):    \n",
    "    \n",
    "    df_2 = pd.DataFrame(data)\n",
    "    X = df_2\n",
    "    y = labels\n",
    "    X_train, X_test, y_train, y_test = train_test_split(X, y, random_state = 0) \n",
    "    \n",
    "    return(X_train, X_test, y_train, y_test)\n",
    "\n",
    "def kNN_classifier(x_train, y_train, x_test, y_test):\n",
    "    # training a KNN classifier \n",
    "    from sklearn.neighbors import KNeighborsClassifier \n",
    "    knn = KNeighborsClassifier(n_neighbors = 10).fit(x_train, y_train) \n",
    "\n",
    "    # accuracy on X_test \n",
    "    accuracy = knn.score(x_test, y_test) \n",
    "    print(accuracy) \n",
    "\n",
    "    # creating a confusion matrix \n",
    "    knn_predictions = knn.predict(x_test)  \n",
    "    cm = confusion_matrix(y_test, knn_predictions)\n",
    "    print(cm)\n",
    "    \n",
    "    return \n",
    "\n",
    "def SVM_classifier(x_train, y_train, x_test, y_test):\n",
    "    from sklearn.svm import SVC \n",
    "    svm_model_linear = SVC(kernel = 'linear', C = 1).fit(x_train, y_train) \n",
    "    svm_predictions = svm_model_linear.predict(x_test) \n",
    "\n",
    "    # model accuracy for X_test   \n",
    "    accuracy = svm_model_linear.score(x_test, y_test) \n",
    "\n",
    "    # creating a confusion matrix \n",
    "    cm = confusion_matrix(y_test, svm_predictions) \n",
    "    print(cm)\n",
    "    print(accuracy)\n",
    "    "
   ]
  },
  {
   "cell_type": "code",
   "execution_count": 26,
   "metadata": {},
   "outputs": [
    {
     "name": "stdout",
     "output_type": "stream",
     "text": [
      "0.9448\n",
      "[[260   0   0   0   0   1   1   0   0   0]\n",
      " [  0 294   1   1   0   0   0   0   0   0]\n",
      " [  1   1 234   0   0   0   0   2   2   0]\n",
      " [  0   2   1 261   0   1   0   1   2   1]\n",
      " [  1   0   1   0 233   0   4   0   0  28]\n",
      " [  3   1   0   6   0 189   1   0   5   3]\n",
      " [  1   1   0   0   1   0 230   0   0   0]\n",
      " [  0   2   1   0   5   0   0 206   0  17]\n",
      " [  8   0   1   2   1   0   1   3 232   1]\n",
      " [  4   4   0   4   4   2   0   4   0 223]]\n"
     ]
    },
    {
     "ename": "TypeError",
     "evalue": "'NoneType' object is not iterable",
     "output_type": "error",
     "traceback": [
      "\u001b[1;31m---------------------------------------------------------------------------\u001b[0m",
      "\u001b[1;31mTypeError\u001b[0m                                 Traceback (most recent call last)",
      "\u001b[1;32m<ipython-input-26-f6614ef3b92a>\u001b[0m in \u001b[0;36m<module>\u001b[1;34m()\u001b[0m\n\u001b[0;32m      1\u001b[0m \u001b[0mx_train_enc\u001b[0m\u001b[1;33m,\u001b[0m \u001b[0mx_test_enc\u001b[0m\u001b[1;33m,\u001b[0m \u001b[0my_train_enc\u001b[0m\u001b[1;33m,\u001b[0m \u001b[0my_test_enc\u001b[0m \u001b[1;33m=\u001b[0m \u001b[0mtrain_test\u001b[0m\u001b[1;33m(\u001b[0m\u001b[0mencoded_imgs\u001b[0m \u001b[1;33m,\u001b[0m \u001b[0my_test\u001b[0m\u001b[1;33m)\u001b[0m\u001b[1;33m\u001b[0m\u001b[0m\n\u001b[0;32m      2\u001b[0m \u001b[1;33m\u001b[0m\u001b[0m\n\u001b[1;32m----> 3\u001b[1;33m \u001b[0mcm_kNN\u001b[0m\u001b[1;33m,\u001b[0m \u001b[0maccuracy_kNN\u001b[0m \u001b[1;33m=\u001b[0m \u001b[0mkNN_classifier\u001b[0m\u001b[1;33m(\u001b[0m\u001b[0mx_train_enc\u001b[0m\u001b[1;33m,\u001b[0m \u001b[0my_train_enc\u001b[0m\u001b[1;33m,\u001b[0m \u001b[0mx_test_enc\u001b[0m\u001b[1;33m,\u001b[0m \u001b[0my_test_enc\u001b[0m\u001b[1;33m)\u001b[0m\u001b[1;33m\u001b[0m\u001b[0m\n\u001b[0m\u001b[0;32m      4\u001b[0m \u001b[0mcm_SVM\u001b[0m\u001b[1;33m,\u001b[0m \u001b[0maccuracy_SVM\u001b[0m \u001b[1;33m=\u001b[0m \u001b[0mSVM_classifier\u001b[0m\u001b[1;33m(\u001b[0m\u001b[0mx_train_enc\u001b[0m\u001b[1;33m,\u001b[0m \u001b[0my_train_enc\u001b[0m\u001b[1;33m,\u001b[0m \u001b[0mx_test_enc\u001b[0m\u001b[1;33m,\u001b[0m \u001b[0my_test_enc\u001b[0m\u001b[1;33m)\u001b[0m\u001b[1;33m\u001b[0m\u001b[0m\n\u001b[0;32m      5\u001b[0m \u001b[1;33m\u001b[0m\u001b[0m\n",
      "\u001b[1;31mTypeError\u001b[0m: 'NoneType' object is not iterable"
     ]
    }
   ],
   "source": [
    "x_train_enc, x_test_enc, y_train_enc, y_test_enc = train_test(encoded_imgs , y_test)\n",
    "\n",
    "cm_kNN, accuracy_kNN = kNN_classifier(x_train_enc, y_train_enc, x_test_enc, y_test_enc)\n",
    "cm_SVM, accuracy_SVM = SVM_classifier(x_train_enc, y_train_enc, x_test_enc, y_test_enc)\n",
    "\n",
    "print(cm_kNN)\n",
    "print(accuracy_kNN) \n",
    "print(cm_SVM)\n",
    "print(accuracy_SVM)"
   ]
  },
  {
   "cell_type": "code",
   "execution_count": null,
   "metadata": {},
   "outputs": [],
   "source": [
    "x_train_enc, x_test_enc, y_train_enc, y_test_enc = train_test(simple_encoded_imgs , y_test)\n",
    "\n",
    "cm_kNN, accuracy_kNN = kNN_classifier(x_train_enc, y_train_enc, x_test_enc, y_test_enc)\n",
    "cm_SVM, accuracy_SVM = SVM_classifier(x_train_enc, y_train_enc, x_test_enc, y_test_enc)\n",
    "\n",
    "print(cm_kNN)\n",
    "print(accuracy_kNN) \n",
    "print(cm_SVM)\n",
    "print(accuracy_SVM)"
   ]
  }
 ],
 "metadata": {
  "kernelspec": {
   "display_name": "Python 3",
   "language": "python",
   "name": "python3"
  },
  "language_info": {
   "codemirror_mode": {
    "name": "ipython",
    "version": 3
   },
   "file_extension": ".py",
   "mimetype": "text/x-python",
   "name": "python",
   "nbconvert_exporter": "python",
   "pygments_lexer": "ipython3",
   "version": "3.5.4"
  }
 },
 "nbformat": 4,
 "nbformat_minor": 2
}
